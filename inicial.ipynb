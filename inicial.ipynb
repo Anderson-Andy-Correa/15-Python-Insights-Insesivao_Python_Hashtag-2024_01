{
 "cells": [
  {
   "cell_type": "markdown",
   "metadata": {},
   "source": [
    "# Python Insights - Analisando Dados com Python\n",
    "\n",
    "### Case - Cancelamento de Clientes\n",
    "\n",
    "Você foi contratado por uma empresa com mais de 800 mil clientes para um projeto de Dados. Recentemente a empresa percebeu que da sua base total de clientes, a maioria são clientes inativos, ou seja, que já cancelaram o serviço.\n",
    "\n",
    "Precisando melhorar seus resultados ela quer conseguir entender os principais motivos desses cancelamentos e quais as ações mais eficientes para reduzir esse número.\n",
    "\n",
    "Base de dados e arquivos: https://drive.google.com/drive/folders/1uDesZePdkhiraJmiyeZ-w5tfc8XsNYFZ?usp=drive_link"
   ]
  },
  {
   "cell_type": "code",
   "execution_count": 28,
   "metadata": {},
   "outputs": [],
   "source": [
    "# Passo a passo do projeto\n",
    "# Passo 1: Importar a base de dados de clientes\n",
    "# Passo 2: Visualizzar a base de dados\n",
    "# Passo 3: Corrigir as cagadas da base de dados\n",
    "# Passo 4: Análise dos cancelamentos\n",
    "# Passo 5: Análise da causa do cancelamento"
   ]
  },
  {
   "cell_type": "code",
   "execution_count": null,
   "metadata": {},
   "outputs": [],
   "source": [
    "# Trabalhar com base de dados -> pandas\n",
    "# graficos e dashboards -> plotly\n",
    "\n",
    "# Importações necessárias do projeto\n",
    "!pip install pandas numpy openpyxl nbformat ipykernel plotly"
   ]
  },
  {
   "cell_type": "code",
   "execution_count": null,
   "metadata": {},
   "outputs": [],
   "source": [
    "# Passo 1: Importar a base de dados de clientes\n",
    "import pandas as pd\n",
    "\n",
    "tabela = pd.read_csv('documentos/cancelamentos_sample.csv')\n",
    "\n",
    "# Passo 2: Visualizzar a base de dados\n",
    "# colunas inuteis - informações que não te ajudam, te atrapalham\n",
    "tabela = tabela.drop(columns='CustomerID')\n",
    "display(tabela)"
   ]
  },
  {
   "cell_type": "code",
   "execution_count": null,
   "metadata": {},
   "outputs": [],
   "source": [
    "# Passo 3: Corrigir as cagadas da base de dados\n",
    "# Valores vazios -> Erros de preenchimento\n",
    "display(tabela.info())\n",
    "tabela = tabela.dropna()\n",
    "display(tabela.info())"
   ]
  },
  {
   "cell_type": "code",
   "execution_count": null,
   "metadata": {},
   "outputs": [],
   "source": [
    "# Passo 4: Análise dos cancelamentos\n",
    "display(tabela['cancelou'].value_counts())\n",
    "display(tabela['cancelou'].value_counts(normalize=True))\n",
    "# display(tabela['cancelou'].value_counts(normalize=True).map('{:.1%}'.format))"
   ]
  },
  {
   "cell_type": "code",
   "execution_count": null,
   "metadata": {},
   "outputs": [],
   "source": [
    "# Passo 5: Análise da causa do cancelamento\n",
    "import plotly.express as px\n",
    "\n",
    "# para cada coluna na minha tabela\n",
    "for coluna in tabela.columns:\n",
    "    grafico = px.histogram(tabela, x=coluna, color='cancelou') # Criar o gráfico\n",
    "    grafico.show() # Exibe o Gráfico"
   ]
  },
  {
   "cell_type": "code",
   "execution_count": 38,
   "metadata": {},
   "outputs": [
    {
     "data": {
      "text/plain": [
       "cancelou\n",
       "0.0    81.6%\n",
       "1.0    18.4%\n",
       "Name: proportion, dtype: object"
      ]
     },
     "metadata": {},
     "output_type": "display_data"
    }
   ],
   "source": [
    "# Análise das causas de cancelamento\n",
    "\n",
    "# Se um cliente ligar mais de 4 vezes para o call center, ele cancela\n",
    "    # Criar um processo que se um cliente ligou 3 vezes, a gente faz de tudo para resolver o problema\n",
    "\n",
    "# Se um cliente atrasar oo pagamento mais de 20 dias, ele cancela\n",
    "    # Criar um processo para não deixar o cliente atrasar o pagamento mais de 20 dias\n",
    "\n",
    "# Todos os cliente do contrato mensal cancelam\n",
    "    # Oferecer desconto nos planos anuais e trimestrais\n",
    "\n",
    "# Mostrando uma análise do resultado de resolução dos problemas\n",
    "tabela = tabela[tabela['duracao_contrato'] != 'Monthly'] # sem duração do contrato mensal\n",
    "tabela = tabela[tabela['ligacoes_callcenter'] <= 4] # sem ligação do call center acima de 4 vezes\n",
    "tabela = tabela[tabela['dias_atraso'] <= 20] # sem atraso de pagamento maior que 20 dias\n",
    "\n",
    "display(tabela['cancelou'].value_counts(normalize=True).map('{:.1%}'.format))\n"
   ]
  }
 ],
 "metadata": {
  "kernelspec": {
   "display_name": "base",
   "language": "python",
   "name": "python3"
  },
  "language_info": {
   "codemirror_mode": {
    "name": "ipython",
    "version": 3
   },
   "file_extension": ".py",
   "mimetype": "text/x-python",
   "name": "python",
   "nbconvert_exporter": "python",
   "pygments_lexer": "ipython3",
   "version": "3.12.2"
  },
  "orig_nbformat": 4
 },
 "nbformat": 4,
 "nbformat_minor": 2
}
